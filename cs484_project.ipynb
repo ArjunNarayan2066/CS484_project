{
  "nbformat": 4,
  "nbformat_minor": 0,
  "metadata": {
    "colab": {
      "name": "cs484_project.ipynb",
      "provenance": [],
      "collapsed_sections": [],
      "mount_file_id": "1maJgn9Dp7KSMr0Vla80dQFTvxXxRJOLj",
      "authorship_tag": "ABX9TyMSsEzGgBg4SI+FyaFXa/QP",
      "include_colab_link": true
    },
    "kernelspec": {
      "name": "python3",
      "display_name": "Python 3"
    },
    "accelerator": "GPU"
  },
  "cells": [
    {
      "cell_type": "markdown",
      "metadata": {
        "id": "view-in-github",
        "colab_type": "text"
      },
      "source": [
        "<a href=\"https://colab.research.google.com/github/ArjunNarayan2066/CS484_project/blob/main/cs484_project.ipynb\" target=\"_parent\"><img src=\"https://colab.research.google.com/assets/colab-badge.svg\" alt=\"Open In Colab\"/></a>"
      ]
    },
    {
      "cell_type": "code",
      "metadata": {
        "colab": {
          "base_uri": "https://localhost:8080/"
        },
        "id": "JnRlwbQ9z4kL",
        "outputId": "2fc3c532-ba2e-468a-aa48-e147af4cc3fd"
      },
      "source": [
        "# Install dependencies\r\n",
        "! nvcc --version\r\n",
        "\r\n",
        "! pip install torch==1.7.1+cu101 torchvision==0.8.2+cu101 -f https://download.pytorch.org/whl/torch_stable.html\r\n",
        "! pip install tensorboardX==1.4\r\n",
        "! pip install opencv-python==3.3.1.11\r\n",
        "\r\n",
        "# Clone repo\r\n",
        "! git clone https://github.com/nianticlabs/monodepth2.git"
      ],
      "execution_count": 1,
      "outputs": [
        {
          "output_type": "stream",
          "text": [
            "nvcc: NVIDIA (R) Cuda compiler driver\n",
            "Copyright (c) 2005-2019 NVIDIA Corporation\n",
            "Built on Sun_Jul_28_19:07:16_PDT_2019\n",
            "Cuda compilation tools, release 10.1, V10.1.243\n",
            "Looking in links: https://download.pytorch.org/whl/torch_stable.html\n",
            "Collecting torch==1.7.1+cu101\n",
            "\u001b[?25l  Downloading https://download.pytorch.org/whl/cu101/torch-1.7.1%2Bcu101-cp36-cp36m-linux_x86_64.whl (735.4MB)\n",
            "\u001b[K     |████████████████████████████████| 735.4MB 24kB/s \n",
            "\u001b[?25hCollecting torchvision==0.8.2+cu101\n",
            "\u001b[?25l  Downloading https://download.pytorch.org/whl/cu101/torchvision-0.8.2%2Bcu101-cp36-cp36m-linux_x86_64.whl (12.8MB)\n",
            "\u001b[K     |████████████████████████████████| 12.8MB 211kB/s \n",
            "\u001b[?25hRequirement already satisfied: dataclasses; python_version < \"3.7\" in /usr/local/lib/python3.6/dist-packages (from torch==1.7.1+cu101) (0.8)\n",
            "Requirement already satisfied: numpy in /usr/local/lib/python3.6/dist-packages (from torch==1.7.1+cu101) (1.18.5)\n",
            "Requirement already satisfied: typing-extensions in /usr/local/lib/python3.6/dist-packages (from torch==1.7.1+cu101) (3.7.4.3)\n",
            "Requirement already satisfied: pillow>=4.1.1 in /usr/local/lib/python3.6/dist-packages (from torchvision==0.8.2+cu101) (7.0.0)\n",
            "Installing collected packages: torch, torchvision\n",
            "  Found existing installation: torch 1.7.0+cu101\n",
            "    Uninstalling torch-1.7.0+cu101:\n",
            "      Successfully uninstalled torch-1.7.0+cu101\n",
            "  Found existing installation: torchvision 0.8.1+cu101\n",
            "    Uninstalling torchvision-0.8.1+cu101:\n",
            "      Successfully uninstalled torchvision-0.8.1+cu101\n",
            "Successfully installed torch-1.7.1+cu101 torchvision-0.8.2+cu101\n",
            "Collecting tensorboardX==1.4\n",
            "\u001b[?25l  Downloading https://files.pythonhosted.org/packages/b1/d2/e08fe62f3554fbba081e80f6b23128df53b2f74ed4dcde73ec4a84dc53fb/tensorboardX-1.4-py2.py3-none-any.whl (67kB)\n",
            "\u001b[K     |████████████████████████████████| 71kB 5.0MB/s \n",
            "\u001b[?25hRequirement already satisfied: six in /usr/local/lib/python3.6/dist-packages (from tensorboardX==1.4) (1.15.0)\n",
            "Requirement already satisfied: numpy in /usr/local/lib/python3.6/dist-packages (from tensorboardX==1.4) (1.18.5)\n",
            "Requirement already satisfied: protobuf>=3.2.0 in /usr/local/lib/python3.6/dist-packages (from tensorboardX==1.4) (3.12.4)\n",
            "Requirement already satisfied: setuptools in /usr/local/lib/python3.6/dist-packages (from protobuf>=3.2.0->tensorboardX==1.4) (50.3.2)\n",
            "Installing collected packages: tensorboardX\n",
            "Successfully installed tensorboardX-1.4\n",
            "Collecting opencv-python==3.3.1.11\n",
            "\u001b[?25l  Downloading https://files.pythonhosted.org/packages/5d/2e/94488235b5708390dc03c425b7bf47babad73283297d9989c3abef45f255/opencv_python-3.3.1.11-cp36-cp36m-manylinux1_x86_64.whl (24.7MB)\n",
            "\u001b[K     |████████████████████████████████| 24.7MB 1.3MB/s \n",
            "\u001b[?25hRequirement already satisfied: numpy>=1.11.3 in /usr/local/lib/python3.6/dist-packages (from opencv-python==3.3.1.11) (1.18.5)\n",
            "\u001b[31mERROR: dopamine-rl 1.0.5 has requirement opencv-python>=3.4.1.15, but you'll have opencv-python 3.3.1.11 which is incompatible.\u001b[0m\n",
            "\u001b[31mERROR: albumentations 0.1.12 has requirement imgaug<0.2.7,>=0.2.5, but you'll have imgaug 0.2.9 which is incompatible.\u001b[0m\n",
            "Installing collected packages: opencv-python\n",
            "  Found existing installation: opencv-python 4.1.2.30\n",
            "    Uninstalling opencv-python-4.1.2.30:\n",
            "      Successfully uninstalled opencv-python-4.1.2.30\n",
            "Successfully installed opencv-python-3.3.1.11\n",
            "Cloning into 'monodepth2'...\n",
            "remote: Enumerating objects: 148, done.\u001b[K\n",
            "remote: Total 148 (delta 0), reused 0 (delta 0), pack-reused 148\u001b[K\n",
            "Receiving objects: 100% (148/148), 10.26 MiB | 37.65 MiB/s, done.\n",
            "Resolving deltas: 100% (71/71), done.\n"
          ],
          "name": "stdout"
        }
      ]
    },
    {
      "cell_type": "code",
      "metadata": {
        "colab": {
          "base_uri": "https://localhost:8080/"
        },
        "id": "AK6si-eI1Owv",
        "outputId": "9ad1f9b6-47ee-4bd2-ca9f-8afd3212dab1"
      },
      "source": [
        "! python monodepth2/test_simple.py --image_path monodepth2/assets/test_image.jpg --model_name mono+stereo_640x192 --model_path /root/tmp/S_640x192/models/weights_19\r\n",
        "# /root/tmp/S_640x192/models/weights_9/encoder.pth"
      ],
      "execution_count": 73,
      "outputs": [
        {
          "output_type": "stream",
          "text": [
            "-> Loading model from  /root/tmp/S_640x192/models/weights_19\n",
            "   Loading pretrained encoder\n",
            "   Loading pretrained decoder\n",
            "-> Predicting on 1 test images\n",
            "   Processed 1 of 1 images - saved prediction to monodepth2/assets/test_image_disp.jpeg\n",
            "-> Done!\n"
          ],
          "name": "stdout"
        }
      ]
    },
    {
      "cell_type": "code",
      "metadata": {
        "id": "GyVajA6BA8CM"
      },
      "source": [
        "! rm -rf *.zip\r\n",
        "! rm -rf kitti_data\r\n"
      ],
      "execution_count": 2,
      "outputs": []
    },
    {
      "cell_type": "code",
      "metadata": {
        "colab": {
          "base_uri": "https://localhost:8080/"
        },
        "id": "7mwHPQeT6dsV",
        "outputId": "eab85dac-369d-4001-a405-a79edfdff740"
      },
      "source": [
        "\r\n",
        "! wget https://s3.eu-central-1.amazonaws.com/avg-kitti/raw_data/2011_09_26_drive_0001/2011_09_26_drive_0001_sync.zip\r\n",
        "! wget https://s3.eu-central-1.amazonaws.com/avg-kitti/raw_data/2011_09_26_drive_0002/2011_09_26_drive_0002_sync.zip\r\n",
        "! wget https://s3.eu-central-1.amazonaws.com/avg-kitti/raw_data/2011_09_26_drive_0005/2011_09_26_drive_0005_sync.zip\r\n",
        "! wget https://s3.eu-central-1.amazonaws.com/avg-kitti/raw_data/2011_09_26_drive_0009/2011_09_26_drive_0009_sync.zip\r\n",
        "! wget https://s3.eu-central-1.amazonaws.com/avg-kitti/raw_data/2011_09_26_drive_0011/2011_09_26_drive_0011_sync.zip\r\n",
        "! wget https://s3.eu-central-1.amazonaws.com/avg-kitti/raw_data/2011_09_26_drive_0013/2011_09_26_drive_0013_sync.zip\r\n",
        "# ! wget https://s3.eu-central-1.amazonaws.com/avg-kitti/raw_data/2011_09_26_drive_0014/2011_09_26_drive_0014_sync.zip\r\n",
        "! wget https://s3.eu-central-1.amazonaws.com/avg-kitti/raw_data/2011_09_26_drive_0015/2011_09_26_drive_0015_sync.zip\r\n",
        "! wget https://s3.eu-central-1.amazonaws.com/avg-kitti/raw_data/2011_09_26_drive_0017/2011_09_26_drive_0017_sync.zip\r\n",
        "# ! wget https://s3.eu-central-1.amazonaws.com/avg-kitti/raw_data/2011_09_26_drive_0018/2011_09_26_drive_0018_sync.zip\r\n",
        "! wget https://s3.eu-central-1.amazonaws.com/avg-kitti/raw_data/2011_09_26_drive_0019/2011_09_26_drive_0019_sync.zip\r\n",
        "# ! wget https://s3.eu-central-1.amazonaws.com/avg-kitti/raw_data/2011_09_26_drive_0020/2011_09_26_drive_0020_sync.zip\r\n",
        "! wget https://s3.eu-central-1.amazonaws.com/avg-kitti/raw_data/2011_09_26_drive_0022/2011_09_26_drive_0022_sync.zip\r\n",
        "! wget https://s3.eu-central-1.amazonaws.com/avg-kitti/raw_data/2011_09_26_drive_0023/2011_09_26_drive_0023_sync.zip\r\n",
        "# ! wget https://s3.eu-central-1.amazonaws.com/avg-kitti/raw_data/2011_09_26_drive_0027/2011_09_26_drive_0027_sync.zip\r\n",
        "! wget https://s3.eu-central-1.amazonaws.com/avg-kitti/raw_data/2011_09_26_drive_0028/2011_09_26_drive_0028_sync.zip\r\n",
        "# ! wget https://s3.eu-central-1.amazonaws.com/avg-kitti/raw_data/2011_09_26_drive_0029/2011_09_26_drive_0029_sync.zip\r\n",
        "! wget https://s3.eu-central-1.amazonaws.com/avg-kitti/raw_data/2011_09_26_drive_0032/2011_09_26_drive_0032_sync.zip\r\n",
        "! wget https://s3.eu-central-1.amazonaws.com/avg-kitti/raw_data/2011_09_26_drive_0035/2011_09_26_drive_0035_sync.zip\r\n",
        "! wget https://s3.eu-central-1.amazonaws.com/avg-kitti/raw_data/2011_09_26_drive_0036/2011_09_26_drive_0036_sync.zip\r\n",
        "# ! wget https://s3.eu-central-1.amazonaws.com/avg-kitti/raw_data/2011_09_26_drive_0039/2011_09_26_drive_0039_sync.zip\r\n",
        "! wget https://s3.eu-central-1.amazonaws.com/avg-kitti/raw_data/2011_09_26_drive_0046/2011_09_26_drive_0046_sync.zip\r\n",
        "! wget https://s3.eu-central-1.amazonaws.com/avg-kitti/raw_data/2011_09_26_drive_0048/2011_09_26_drive_0048_sync.zip\r\n",
        "! wget https://s3.eu-central-1.amazonaws.com/avg-kitti/raw_data/2011_09_26_drive_0051/2011_09_26_drive_0051_sync.zip\r\n",
        "# ! wget https://s3.eu-central-1.amazonaws.com/avg-kitti/raw_data/2011_09_26_drive_0052/2011_09_26_drive_0052_sync.zip\r\n",
        "# ! wget https://s3.eu-central-1.amazonaws.com/avg-kitti/raw_data/2011_09_26_drive_0056/2011_09_26_drive_0056_sync.zip\r\n",
        "# # ! wget https://s3.eu-central-1.amazonaws.com/avg-kitti/raw_data/2011_09_26_drive_0057/2011_09_26_drive_0057_sync.zip\r\n",
        "# ! wget https://s3.eu-central-1.amazonaws.com/avg-kitti/raw_data/2011_09_26_drive_0059/2011_09_26_drive_0059_sync.zip\r\n",
        "# # ! wget https://s3.eu-central-1.amazonaws.com/avg-kitti/raw_data/2011_09_26_drive_0060/2011_09_26_drive_0060_sync.zip\r\n",
        "# ! wget https://s3.eu-central-1.amazonaws.com/avg-kitti/raw_data/2011_09_26_drive_0061/2011_09_26_drive_0061_sync.zip\r\n",
        "# # ! wget https://s3.eu-central-1.amazonaws.com/avg-kitti/raw_data/2011_09_26_drive_0064/2011_09_26_drive_0064_sync.zip\r\n",
        "# ! wget https://s3.eu-central-1.amazonaws.com/avg-kitti/raw_data/2011_09_26_drive_0070/2011_09_26_drive_0070_sync.zip\r\n",
        "# # ! wget https://s3.eu-central-1.amazonaws.com/avg-kitti/raw_data/2011_09_26_drive_0079/2011_09_26_drive_0079_sync.zip\r\n",
        "# ! wget https://s3.eu-central-1.amazonaws.com/avg-kitti/raw_data/2011_09_26_drive_0084/2011_09_26_drive_0084_sync.zip\r\n",
        "# # ! wget https://s3.eu-central-1.amazonaws.com/avg-kitti/raw_data/2011_09_26_drive_0086/2011_09_26_drive_0086_sync.zip\r\n",
        "# ! wget https://s3.eu-central-1.amazonaws.com/avg-kitti/raw_data/2011_09_26_drive_0087/2011_09_26_drive_0087_sync.zip\r\n",
        "# ! wget https://s3.eu-central-1.amazonaws.com/avg-kitti/raw_data/2011_09_26_drive_0091/2011_09_26_drive_0091_sync.zip\r\n",
        "# # ! wget https://s3.eu-central-1.amazonaws.com/avg-kitti/raw_data/2011_09_26_drive_0093/2011_09_26_drive_0093_sync.zip\r\n",
        "# ! wget https://s3.eu-central-1.amazonaws.com/avg-kitti/raw_data/2011_09_26_drive_0095/2011_09_26_drive_0095_sync.zip\r\n",
        "# ! wget https://s3.eu-central-1.amazonaws.com/avg-kitti/raw_data/2011_09_26_drive_0096/2011_09_26_drive_0096_sync.zip\r\n",
        "# # ! wget https://s3.eu-central-1.amazonaws.com/avg-kitti/raw_data/2011_09_26_drive_0101/2011_09_26_drive_0101_sync.zip\r\n",
        "# ! wget https://s3.eu-central-1.amazonaws.com/avg-kitti/raw_data/2011_09_26_drive_0104/2011_09_26_drive_0104_sync.zip\r\n",
        "# # ! wget https://s3.eu-central-1.amazonaws.com/avg-kitti/raw_data/2011_09_26_drive_0106/2011_09_26_drive_0106_sync.zip\r\n",
        "# ! wget https://s3.eu-central-1.amazonaws.com/avg-kitti/raw_data/2011_09_26_drive_0113/2011_09_26_drive_0113_sync.zip\r\n",
        "# # ! wget https://s3.eu-central-1.amazonaws.com/avg-kitti/raw_data/2011_09_26_drive_0117/2011_09_26_drive_0117_sync.zip\r\n",
        "\r\n",
        "! wget https://s3.eu-central-1.amazonaws.com/avg-kitti/raw_data/2011_09_26_calib.zip"
      ],
      "execution_count": null,
      "outputs": [
        {
          "output_type": "stream",
          "text": [
            "3_sync.zip.1         26%[====>               ] 157.14M  20.6MB/s    eta 25s    "
          ],
          "name": "stdout"
        }
      ]
    },
    {
      "cell_type": "code",
      "metadata": {
        "colab": {
          "base_uri": "https://localhost:8080/"
        },
        "id": "tsVkfx9I77aM",
        "outputId": "14c6825a-80ec-408b-f670-90d28b9c81ca"
      },
      "source": [
        "import torch\r\n",
        "! uname -a\r\n",
        "print(torch.cuda.is_available())\r\n",
        "print(torch.cuda.get_device_name())"
      ],
      "execution_count": 4,
      "outputs": [
        {
          "output_type": "stream",
          "text": [
            "Linux 8f8e2609b2c4 4.19.112+ #1 SMP Thu Jul 23 08:00:38 PDT 2020 x86_64 x86_64 x86_64 GNU/Linux\n",
            "True\n",
            "Tesla T4\n"
          ],
          "name": "stdout"
        }
      ]
    },
    {
      "cell_type": "code",
      "metadata": {
        "id": "kRh0z4t5QoiJ"
      },
      "source": [
        "# ! python monodepth2/train.py --model_name stereo_model  --frame_ids 0 --use_stereo --split eigen_full"
      ],
      "execution_count": 5,
      "outputs": []
    },
    {
      "cell_type": "code",
      "metadata": {
        "id": "2LaW3qupTEJS"
      },
      "source": [
        "# ! find kitti_data/** -name '*.png' | parallel 'convert -quality 92 -sampling-factor 2x2,1x1,1x1 {.}.png {.}.jpg && rm {}'"
      ],
      "execution_count": 6,
      "outputs": []
    },
    {
      "cell_type": "code",
      "metadata": {
        "colab": {
          "base_uri": "https://localhost:8080/"
        },
        "id": "vuIvPhbqecxe",
        "outputId": "78748ba6-6047-483e-bd6c-541822411ff9"
      },
      "source": [
        "! wget https://s3.eu-central-1.amazonaws.com/avg-kitti/raw_data/2011_09_28_calib.zip\r\n",
        "! wget https://s3.eu-central-1.amazonaws.com/avg-kitti/raw_data/2011_09_28_drive_0001/2011_09_28_drive_0001_sync.zip\r\n",
        "! wget https://s3.eu-central-1.amazonaws.com/avg-kitti/raw_data/2011_09_28_drive_0002/2011_09_28_drive_0002_sync.zip\r\n",
        "\r\n"
      ],
      "execution_count": 63,
      "outputs": [
        {
          "output_type": "stream",
          "text": [
            "--2020-12-17 20:52:51--  https://s3.eu-central-1.amazonaws.com/avg-kitti/raw_data/2011_09_28_calib.zip\n",
            "Resolving s3.eu-central-1.amazonaws.com (s3.eu-central-1.amazonaws.com)... 52.219.72.175\n",
            "Connecting to s3.eu-central-1.amazonaws.com (s3.eu-central-1.amazonaws.com)|52.219.72.175|:443... connected.\n",
            "HTTP request sent, awaiting response... 200 OK\n",
            "Length: 4073 (4.0K) [application/zip]\n",
            "Saving to: ‘2011_09_28_calib.zip’\n",
            "\n",
            "2011_09_28_calib.zi 100%[===================>]   3.98K  --.-KB/s    in 0s      \n",
            "\n",
            "2020-12-17 20:52:52 (127 MB/s) - ‘2011_09_28_calib.zip’ saved [4073/4073]\n",
            "\n",
            "--2020-12-17 20:52:52--  https://s3.eu-central-1.amazonaws.com/avg-kitti/raw_data/2011_09_28_drive_0001/2011_09_28_drive_0001_sync.zip\n",
            "Resolving s3.eu-central-1.amazonaws.com (s3.eu-central-1.amazonaws.com)... 52.219.72.175\n",
            "Connecting to s3.eu-central-1.amazonaws.com (s3.eu-central-1.amazonaws.com)|52.219.72.175|:443... connected.\n",
            "HTTP request sent, awaiting response... 200 OK\n",
            "Length: 424412944 (405M) [application/zip]\n",
            "Saving to: ‘2011_09_28_drive_0001_sync.zip’\n",
            "\n",
            "2011_09_28_drive_00 100%[===================>] 404.75M  20.6MB/s    in 20s     \n",
            "\n",
            "2020-12-17 20:53:13 (19.7 MB/s) - ‘2011_09_28_drive_0001_sync.zip’ saved [424412944/424412944]\n",
            "\n",
            "--2020-12-17 20:53:13--  https://s3.eu-central-1.amazonaws.com/avg-kitti/raw_data/2011_09_28_drive_0002/2011_09_28_drive_0002_sync.zip\n",
            "Resolving s3.eu-central-1.amazonaws.com (s3.eu-central-1.amazonaws.com)... 52.219.74.131\n",
            "Connecting to s3.eu-central-1.amazonaws.com (s3.eu-central-1.amazonaws.com)|52.219.74.131|:443... connected.\n",
            "HTTP request sent, awaiting response... 200 OK\n",
            "Length: 1458258535 (1.4G) [application/zip]\n",
            "Saving to: ‘2011_09_28_drive_0002_sync.zip’\n",
            "\n",
            "2011_09_28_drive_00 100%[===================>]   1.36G  20.9MB/s    in 69s     \n",
            "\n",
            "2020-12-17 20:54:23 (20.3 MB/s) - ‘2011_09_28_drive_0002_sync.zip’ saved [1458258535/1458258535]\n",
            "\n"
          ],
          "name": "stdout"
        }
      ]
    },
    {
      "cell_type": "code",
      "metadata": {
        "id": "zXHNpu6ySrUT"
      },
      "source": [
        "# ! rm -rf kitti_data\r\n",
        "# ! mkdir kitti_data\r\n",
        "! unzip -q 2011_09_28_drive_0001_sync.zip -d kitti_data\r\n",
        "! rm -rf 2011_09_28_drive_0001_sync.zip\r\n",
        "# ! mv data_temp/2011_09_26/2011_09_26_drive_0095_sync/* kitti_data"
      ],
      "execution_count": 67,
      "outputs": []
    },
    {
      "cell_type": "code",
      "metadata": {
        "colab": {
          "base_uri": "https://localhost:8080/"
        },
        "id": "I5JE0YgXjVe-",
        "outputId": "e6c4270c-2f3f-43ce-8621-a2134c00b441"
      },
      "source": [
        "# ! sudo apt update\r\n",
        "# ! sudo apt install imagemagick --fix-missing\r\n",
        "# ! convert -h\r\n",
        "# ! find kitti_data/ -name '*.png'\r\n",
        "! sudo apt install parallel\r\n",
        "# convert -quality 92 -sampling-factor 2x2,1x1,1x1 kitti_data/2011_09_26/2011_09_26_drive_0048_sync/image_02/data/0000000005.png jpg && rm {}\r\n",
        "! find kitti_data/2011_09_28 -name '*.png' | parallel 'convert -quality 92 -sampling-factor 2x2,1x1,1x1 {.}.png {.}.jpg && rm {}'"
      ],
      "execution_count": 68,
      "outputs": [
        {
          "output_type": "stream",
          "text": [
            "Reading package lists... Done\n",
            "Building dependency tree       \n",
            "Reading state information... Done\n",
            "parallel is already the newest version (20161222-1).\n",
            "0 upgraded, 0 newly installed, 0 to remove and 56 not upgraded.\n",
            "Academic tradition requires you to cite works you base your article on.\n",
            "When using programs that use GNU Parallel to process data for publication\n",
            "please cite:\n",
            "\n",
            "  O. Tange (2011): GNU Parallel - The Command-Line Power Tool,\n",
            "  ;login: The USENIX Magazine, February 2011:42-47.\n",
            "\n",
            "This helps funding further development; AND IT WON'T COST YOU A CENT.\n",
            "If you pay 10000 EUR you should feel free to use GNU Parallel without citing.\n",
            "\n",
            "To silence this citation notice: run 'parallel --citation'.\n",
            "\n"
          ],
          "name": "stdout"
        }
      ]
    },
    {
      "cell_type": "code",
      "metadata": {
        "colab": {
          "base_uri": "https://localhost:8080/"
        },
        "id": "c5yRZNzAj_gx",
        "outputId": "dcf47db0-bce5-40fc-ef19-cf2699166443"
      },
      "source": [
        "! python monodepth2/train.py --model_name S_640x192 --frame_ids 0 --use_stereo --split eigen_full --data_path /content/kitti_data --num_epochs 20\r\n",
        "# /content/kitti_data/2011_09_26/2011_09_26_drive_0106_sync/image_02/data/0000000115.png"
      ],
      "execution_count": 71,
      "outputs": [
        {
          "output_type": "stream",
          "text": [
            "Training model named:\n",
            "   S_640x192\n",
            "Models and tensorboard events files are saved to:\n",
            "   /root/tmp\n",
            "Training is using:\n",
            "   cuda\n",
            "Using split:\n",
            "   eigen_full\n",
            "There are 670 training items and 82 validation items\n",
            "\n",
            "/usr/local/lib/python3.6/dist-packages/torch/optim/lr_scheduler.py:136: UserWarning: Detected call of `lr_scheduler.step()` before `optimizer.step()`. In PyTorch 1.1.0 and later, you should call them in the opposite order: `optimizer.step()` before `lr_scheduler.step()`.  Failure to do this will result in PyTorch skipping the first value of the learning rate schedule. See more details at https://pytorch.org/docs/stable/optim.html#how-to-adjust-learning-rate\n",
            "  \"https://pytorch.org/docs/stable/optim.html#how-to-adjust-learning-rate\", UserWarning)\n",
            "Training\n",
            "/usr/local/lib/python3.6/dist-packages/torch/nn/functional.py:3385: UserWarning: Default grid_sample and affine_grid behavior has changed to align_corners=False since 1.3.0. Please specify align_corners=True if the old behavior is desired. See the documentation of grid_sample for details.\n",
            "  warnings.warn(\"Default grid_sample and affine_grid behavior has changed \"\n",
            "epoch   0 | batch      0 | examples/s:   4.5 | loss: 0.20893 | time elapsed: 00h00m35s | time left: 00h00m00s\n",
            "Training\n",
            "epoch   1 | batch      0 | examples/s:   7.5 | loss: 0.15056 | time elapsed: 00h02m16s | time left: 00h43m07s\n",
            "Training\n",
            "epoch   2 | batch      0 | examples/s:   7.2 | loss: 0.14486 | time elapsed: 00h04m10s | time left: 00h37m31s\n",
            "Training\n",
            "epoch   3 | batch      0 | examples/s:   8.0 | loss: 0.12723 | time elapsed: 00h05m57s | time left: 00h33m45s\n",
            "Training\n",
            "epoch   4 | batch      0 | examples/s:   7.2 | loss: 0.11834 | time elapsed: 00h07m44s | time left: 00h30m57s\n",
            "Training\n",
            "epoch   5 | batch      0 | examples/s:   7.4 | loss: 0.11925 | time elapsed: 00h09m27s | time left: 00h28m22s\n",
            "Training\n",
            "epoch   6 | batch      0 | examples/s:   8.0 | loss: 0.12290 | time elapsed: 00h11m11s | time left: 00h26m06s\n",
            "Training\n",
            "epoch   7 | batch      0 | examples/s:   7.3 | loss: 0.12794 | time elapsed: 00h13m12s | time left: 00h24m32s\n",
            "Training\n",
            "epoch   8 | batch      0 | examples/s:   7.3 | loss: 0.11827 | time elapsed: 00h14m55s | time left: 00h22m23s\n",
            "Training\n",
            "epoch   9 | batch      0 | examples/s:   6.7 | loss: 0.13039 | time elapsed: 00h16m41s | time left: 00h20m23s\n",
            "Training\n",
            "epoch  10 | batch      0 | examples/s:   8.1 | loss: 0.12313 | time elapsed: 00h18m21s | time left: 00h18m21s\n",
            "Training\n",
            "epoch  11 | batch      0 | examples/s:   7.5 | loss: 0.11701 | time elapsed: 00h20m11s | time left: 00h16m31s\n",
            "Training\n",
            "epoch  12 | batch      0 | examples/s:   7.3 | loss: 0.11994 | time elapsed: 00h21m57s | time left: 00h14m38s\n",
            "Training\n",
            "epoch  13 | batch      0 | examples/s:   7.2 | loss: 0.11029 | time elapsed: 00h23m45s | time left: 00h12m47s\n",
            "Training\n",
            "epoch  14 | batch      0 | examples/s:   7.3 | loss: 0.10602 | time elapsed: 00h25m33s | time left: 00h10m57s\n",
            "Training\n",
            "epoch  15 | batch      0 | examples/s:   6.8 | loss: 0.10555 | time elapsed: 00h27m18s | time left: 00h09m06s\n",
            "Training\n",
            "epoch  16 | batch      0 | examples/s:   7.3 | loss: 0.10799 | time elapsed: 00h29m10s | time left: 00h07m17s\n",
            "Training\n",
            "epoch  17 | batch      0 | examples/s:   8.0 | loss: 0.10584 | time elapsed: 00h30m49s | time left: 00h05m26s\n",
            "Training\n",
            "epoch  18 | batch      0 | examples/s:   6.2 | loss: 0.10243 | time elapsed: 00h32m38s | time left: 00h03m37s\n",
            "Training\n",
            "epoch  19 | batch      0 | examples/s:   7.1 | loss: 0.10176 | time elapsed: 00h34m31s | time left: 00h01m49s\n"
          ],
          "name": "stdout"
        }
      ]
    },
    {
      "cell_type": "code",
      "metadata": {
        "id": "kLRxLc8i0-ss"
      },
      "source": [
        "# ! zip -q -r /content/model.zip /root/tmp/S_640x192/*\r\n",
        "! ls -la /root/tmp/S_640x192/models/"
      ],
      "execution_count": null,
      "outputs": []
    },
    {
      "cell_type": "code",
      "metadata": {
        "colab": {
          "base_uri": "https://localhost:8080/"
        },
        "id": "C2l-qT82snuo",
        "outputId": "7d1bcba7-275a-45f7-8e42-19fa4448a26a"
      },
      "source": [
        "! python monodepth2/export_gt_depth.py --data_path kitti_data --split eigen"
      ],
      "execution_count": 76,
      "outputs": [
        {
          "output_type": "stream",
          "text": [
            "Exporting ground truth depths for eigen\n",
            "Saving to eigen\n"
          ],
          "name": "stdout"
        }
      ]
    },
    {
      "cell_type": "code",
      "metadata": {
        "colab": {
          "base_uri": "https://localhost:8080/"
        },
        "id": "dWvl5VeiuppM",
        "outputId": "976814d4-98c3-4f76-9e7e-3a18d13c6312"
      },
      "source": [
        "! python monodepth2/evaluate_depth.py --data_path kitti_data --load_weights_folder /root/tmp/S_640x192/models/weights_19/ --eval_stereo"
      ],
      "execution_count": 78,
      "outputs": [
        {
          "output_type": "stream",
          "text": [
            "-> Loading weights from /root/tmp/S_640x192/models/weights_19/\n",
            "-> Computing predictions with size 640x192\n",
            "-> Evaluating\n",
            "   Stereo evaluation - disabling median scaling, scaling by 5.4\n",
            "\n",
            "   abs_rel |   sq_rel |     rmse | rmse_log |       a1 |       a2 |       a3 | \n",
            "&   0.114  &   1.793  &   6.309  &   0.236  &   0.879  &   0.941  &   0.965  \\\\\n",
            "\n",
            "-> Done!\n"
          ],
          "name": "stdout"
        }
      ]
    }
  ]
}